{
  "nbformat": 4,
  "nbformat_minor": 0,
  "metadata": {
    "colab": {
      "provenance": [],
      "authorship_tag": "ABX9TyNlAZG+PpAzX8v8nJx6h/JW",
      "include_colab_link": true
    },
    "kernelspec": {
      "name": "python3",
      "display_name": "Python 3"
    },
    "language_info": {
      "name": "python"
    }
  },
  "cells": [
    {
      "cell_type": "markdown",
      "metadata": {
        "id": "view-in-github",
        "colab_type": "text"
      },
      "source": [
        "<a href=\"https://colab.research.google.com/github/kn9ck/MAT422/blob/master/HW_3_7.ipynb\" target=\"_parent\"><img src=\"https://colab.research.google.com/assets/colab-badge.svg\" alt=\"Open In Colab\"/></a>"
      ]
    },
    {
      "cell_type": "markdown",
      "source": [
        "# HW 3.7"
      ],
      "metadata": {
        "id": "aWahekFp22Gw"
      }
    },
    {
      "cell_type": "markdown",
      "source": [
        "## Mathematical Formulation\n",
        "In a neural network, the goal is to transform inputs through a series of weights and biases to make predictions. Each layer in a neural network applies a linear transformation followed by an activation function to produce its output.\n",
        "\n",
        "The output of a node in a layer $l$ can be calculated by taking the weighted sum of the inputs from the previous layer, adding a bias, and applying an activation function.\n",
        "\n",
        "$$z^l = \\textbf{W}^l \\textbf{a}^{l-1} + \\textbf{b}^l$$\n",
        "where:\n",
        "* $\\textbf{W}^l$ is the weight matrix for layer $l$\n",
        "* $\\textbf{a}^{l-1}$ is the output of the previous layer\n",
        "* $\\textbf{b}^l$ is the bias vector\n",
        "* $z^l$ is the pre-activation output, which will be passed through an activation function.\n",
        "\n"
      ],
      "metadata": {
        "id": "BKQ0QXVj2tpj"
      }
    },
    {
      "cell_type": "code",
      "execution_count": 64,
      "metadata": {
        "colab": {
          "base_uri": "https://localhost:8080/"
        },
        "id": "pdxlgXtDo0W5",
        "outputId": "00538fd7-96cc-443c-da59-3b3c5a0e02ca"
      },
      "outputs": [
        {
          "output_type": "stream",
          "name": "stdout",
          "text": [
            "weighted sum: 0.42000000000000004\n",
            "outupt after activation: 0.6034832498647263\n"
          ]
        }
      ],
      "source": [
        "import numpy as np\n",
        "\n",
        "#define inputs and weights for a single layer neural network\n",
        "inputs = np.array([0.5, -0.2])  # x1 and x2\n",
        "weights = np.array([0.8, 0.4])  # w1 and w2\n",
        "bias = 0.1\n",
        "\n",
        "#output\n",
        "z = np.dot(weights, inputs) + bias\n",
        "print(\"weighted sum:\", z)\n",
        "\n",
        "#apply activation function\n",
        "output = 1 / (1 + np.exp(-z))  #sigmoid function\n",
        "print(\"outupt after activation:\", output)\n"
      ]
    },
    {
      "cell_type": "markdown",
      "source": [
        "## Activation Functions\n",
        "An **activation function** determines whether a neuron \"fires\" and thus contributes to the network's output. Different activation functions serve different purposes in neural networks.\n",
        "\n",
        "The activation function applies non-linearity, enabling the network to solve complex tasks.\n",
        "\n",
        "* **ReLU**: $\\sigma (x) = \\text{max}(0,x)$, allows faster and more effective training, especially in deeper networks.\n",
        "* **Sigmoid**: $\\sigma (x) = \\frac{1}{1+e^{-x}}$, maps the output between 0 and 1, useful in binary classification.\n",
        "\n",
        "* **Softmax**: used in classification, it outputs probabilities for each class."
      ],
      "metadata": {
        "id": "f8_nhXQ228th"
      }
    },
    {
      "cell_type": "code",
      "source": [
        "import numpy as np\n",
        "import matplotlib.pyplot as plt\n",
        "\n",
        "#activation functions\n",
        "def relu(x): return np.maximum(0, x)\n",
        "def sigmoid(x): return 1 / (1 + np.exp(-np.clip(x, -100, 100)))\n",
        "def softmax(x):\n",
        "    exp_x = np.exp(x - np.max(x))\n",
        "    return exp_x / exp_x.sum()\n",
        "\n",
        "x = np.linspace(-5, 5, 100)\n",
        "z = np.array([-2.0, -1.0, 0.0, 1.0, 2.0])\n",
        "\n",
        "print(\"Sample inputs:\", z)\n",
        "print(\"ReLU output:\", relu(z))\n",
        "print(\"Sigmoid output:\", sigmoid(z))\n",
        "print(\"Softmax output:\", softmax(z))\n",
        "\n",
        "#plot activation functions\n",
        "plt.figure(figsize=(12, 4))\n",
        "\n",
        "plt.subplot(131)\n",
        "plt.plot(x, relu(x))\n",
        "plt.title('ReLU')\n",
        "plt.grid(True)\n",
        "plt.ylim(-0.5, 5)\n",
        "\n",
        "plt.subplot(132)\n",
        "plt.plot(x, sigmoid(x))\n",
        "plt.title('Sigmoid')\n",
        "plt.grid(True)\n",
        "plt.ylim(-0.1, 1.1)\n",
        "\n",
        "plt.subplot(133)\n",
        "plt.plot(x, np.array([softmax(np.array([xi, 0])) for xi in x])[:, 0])\n",
        "plt.title('Softmax')\n",
        "plt.grid(True)\n",
        "plt.ylim(-0.1, 1.1)\n",
        "\n",
        "plt.tight_layout()\n",
        "plt.show()\n"
      ],
      "metadata": {
        "colab": {
          "base_uri": "https://localhost:8080/",
          "height": 396
        },
        "id": "6y9iEwe62_fX",
        "outputId": "f5b1b5a5-0cf7-45ef-9266-2ef5621be400"
      },
      "execution_count": 65,
      "outputs": [
        {
          "output_type": "stream",
          "name": "stdout",
          "text": [
            "Sample inputs: [-2. -1.  0.  1.  2.]\n",
            "ReLU output: [0. 0. 0. 1. 2.]\n",
            "Sigmoid output: [0.11920292 0.26894142 0.5        0.73105858 0.88079708]\n",
            "Softmax output: [0.01165623 0.03168492 0.08612854 0.23412166 0.63640865]\n"
          ]
        },
        {
          "output_type": "display_data",
          "data": {
            "text/plain": [
              "<Figure size 1200x400 with 3 Axes>"
            ],
            "image/png": "[encoded data removed]"
          },
          "metadata": {}
        }
      ]
    },
    {
      "cell_type": "markdown",
      "source": [
        "## Cost Function\n",
        "The cost function measures how well the neural network's predictions match the true labels. It guides the learning process by quantifying the \"error\" between predictions and the actual outputs.\n",
        "\n",
        "* For regression tasks, a common cost function is **Mean Squared Error** (MSE): $$J = \\frac{1}{2} \\sum_{n=1}^{N} \\sum_{k=1}^{K}(\\hat{y}_k^{(n)}-{y}_k^{(n)})^2$$\n",
        "* For classification tasks, particularly binary classification, **cross-entropy loss** is often used: $$J=-\\sum_{n=1}^{N}(y^{(n)}\\ln \\hat{y}^{(n)}+(1-y^{(n)}) \\ln (1- \\hat{y}^{(n)}))$$"
      ],
      "metadata": {
        "id": "p_-V6M543BTP"
      }
    },
    {
      "cell_type": "code",
      "source": [
        "import numpy as np\n",
        "\n",
        "#cost functions\n",
        "def mse(y_true, y_pred): return np.mean((y_true - y_pred) ** 2)\n",
        "def binary_cross_entropy(y_true, y_pred):\n",
        "    eps = 1e-15\n",
        "    y_pred = np.clip(y_pred, eps, 1 - eps)\n",
        "    return -np.mean(y_true * np.log(y_pred) + (1 - y_true) * np.log(1 - y_pred))\n",
        "\n",
        "#predict\n",
        "y_true = np.array([1, 0, 1, 0, 1])\n",
        "random_pred = np.random.random(5)\n",
        "\n",
        "print(\"Predictions:\", random_pred)\n",
        "print(\"MSE:\", mse(y_true, random_pred))\n",
        "print(\"Binary Cross-Entropy:\", binary_cross_entropy(y_true, random_pred))\n"
      ],
      "metadata": {
        "colab": {
          "base_uri": "https://localhost:8080/"
        },
        "id": "qmhz2Kw53Ciu",
        "outputId": "e99801f2-76a2-4f45-fb1e-d323c14b1f22"
      },
      "execution_count": 66,
      "outputs": [
        {
          "output_type": "stream",
          "name": "stdout",
          "text": [
            "Predictions: [0.66449123 0.95896162 0.13599269 0.48515963 0.09823818]\n",
            "MSE: 0.5654472788212281\n",
            "Binary Cross-Entropy: 1.716278789678332\n"
          ]
        }
      ]
    },
    {
      "cell_type": "markdown",
      "source": [
        "## Backpropagation\n",
        "**Backpropagation** is a process to compute the gradient of the cost function with respect to each weight, helping to minimize the cost function by adjusting the weights and biases.\n",
        "\n",
        "**Backpropagation** calculates how changing each weight and bias affects the cost function. It does this layer by layer from the output back to the input.\n",
        "\n",
        "For each layer, we calculate the \"error\" (delta) at each node, which depends on the derivative of the activation function and the error from the previous layer.\n",
        "\n",
        "## Backpropagation Algorithm\n",
        "The **backpropagation algorithm** is the systematic application of the backpropagation process over multiple iterations (epochs). During each epoch, it uses gradient descent to adjust the weights and biases to minimize the cost function.\n",
        "\n",
        "1. Initialize weights and biases randomly.\n",
        "2. For each training input, calculate the network output and cost.\n",
        "3. Compute gradients of the cost with respect to weights and biases, update them using stochastic gradient descent, and repeat until reaching desired accuracy."
      ],
      "metadata": {
        "id": "DxEZN-W93ENq"
      }
    },
    {
      "cell_type": "code",
      "source": [
        "import numpy as np\n",
        "\n",
        "def forward(x, W1, b1, W2, b2):\n",
        "    z1 = np.dot(x, W1) + b1\n",
        "    a1 = np.maximum(0, z1)  # ReLU\n",
        "\n",
        "    z2 = np.dot(a1, W2) + b2\n",
        "    a2 = 1 / (1 + np.exp(-z2))  # sigmoid\n",
        "\n",
        "    return a2, (z1, a1, z2, a2)\n",
        "\n",
        "def backward(x, y, W1, b1, W2, b2, cache, learning_rate=0.1):\n",
        "    z1, a1, z2, a2 = cache\n",
        "    m = x.shape[0]\n",
        "\n",
        "    #output layer gradients\n",
        "    dz2 = a2 - y\n",
        "    dW2 = np.dot(a1.T, dz2) / m\n",
        "    db2 = np.mean(dz2, axis=0)\n",
        "\n",
        "    #hidden layer gradients\n",
        "    da1 = np.dot(dz2, W2.T)\n",
        "    dz1 = da1 * (z1 > 0)\n",
        "    dW1 = np.dot(x.T, dz1) / m\n",
        "    db1 = np.mean(dz1, axis=0)\n",
        "\n",
        "    #update weights\n",
        "    W1 -= learning_rate * dW1\n",
        "    b1 -= learning_rate * db1\n",
        "    W2 -= learning_rate * dW2\n",
        "    b2 -= learning_rate * db2\n",
        "\n",
        "    return W1, b1, W2, b2\n",
        "\n",
        "X = np.array([[0,0], [0,1], [1,0], [1,1]])\n",
        "y = np.array([[0], [1], [1], [0]])\n",
        "\n",
        "input_size, hidden_size, output_size = 2, 4, 1\n",
        "W1 = np.random.randn(input_size, hidden_size) * 0.01\n",
        "b1 = np.zeros((1, hidden_size))\n",
        "W2 = np.random.randn(hidden_size, output_size) * 0.01\n",
        "b2 = np.zeros((1, output_size))\n",
        "\n",
        "#train network\n",
        "for epoch in range(10000):\n",
        "    #forward pass\n",
        "    pred, cache = forward(X, W1, b1, W2, b2)\n",
        "\n",
        "    #backward pass\n",
        "    W1, b1, W2, b2 = backward(X, y, W1, b1, W2, b2, cache)\n",
        "\n",
        "    if epoch % 1000 == 0:\n",
        "        loss = np.mean((pred - y) ** 2)\n",
        "        print(f\"Epoch {epoch}, Loss: {loss:.4f}\")\n",
        "\n",
        "#predictions\n",
        "final_pred = forward(X, W1, b1, W2, b2)[0]\n",
        "print(\"\\nFinal predictions:\")\n",
        "for x_i, y_i, p_i in zip(X, y, final_pred):\n",
        "    print(f\"Input: {x_i}, True: {y_i[0]}, Predicted: {p_i[0]:.4f}\")\n"
      ],
      "metadata": {
        "colab": {
          "base_uri": "https://localhost:8080/"
        },
        "id": "Fx91xrB83FoK",
        "outputId": "2f998f77-35e4-4db3-a27e-ea594918978e"
      },
      "execution_count": 67,
      "outputs": [
        {
          "output_type": "stream",
          "name": "stdout",
          "text": [
            "Epoch 0, Loss: 0.2500\n",
            "Epoch 1000, Loss: 0.1668\n",
            "Epoch 2000, Loss: 0.0027\n",
            "Epoch 3000, Loss: 0.0004\n",
            "Epoch 4000, Loss: 0.0001\n",
            "Epoch 5000, Loss: 0.0001\n",
            "Epoch 6000, Loss: 0.0000\n",
            "Epoch 7000, Loss: 0.0000\n",
            "Epoch 8000, Loss: 0.0000\n",
            "Epoch 9000, Loss: 0.0000\n",
            "\n",
            "Final predictions:\n",
            "Input: [0 0], True: 0, Predicted: 0.0063\n",
            "Input: [0 1], True: 1, Predicted: 0.9990\n",
            "Input: [1 0], True: 1, Predicted: 0.9990\n",
            "Input: [1 1], True: 0, Predicted: 0.0007\n"
          ]
        }
      ]
    }
  ]
}