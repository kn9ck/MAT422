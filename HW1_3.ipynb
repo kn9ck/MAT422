{
  "nbformat": 4,
  "nbformat_minor": 0,
  "metadata": {
    "colab": {
      "provenance": [],
      "authorship_tag": "ABX9TyMDa0J/2oDjLeGR9Ut7tL7C",
      "include_colab_link": true
    },
    "kernelspec": {
      "name": "python3",
      "display_name": "Python 3"
    },
    "language_info": {
      "name": "python"
    }
  },
  "cells": [
    {
      "cell_type": "markdown",
      "metadata": {
        "id": "view-in-github",
        "colab_type": "text"
      },
      "source": [
        "<a href=\"https://colab.research.google.com/github/kn9ck/MAT422/blob/master/HW1_3.ipynb\" target=\"_parent\"><img src=\"https://colab.research.google.com/assets/colab-badge.svg\" alt=\"Open In Colab\"/></a>"
      ]
    },
    {
      "cell_type": "markdown",
      "source": [
        "# HW 1.3\n",
        "###1.3.1. QR decomposition\n",
        "**QR Decomposition** is a method of decomposing a matrix **𝐴** into the product of two **𝑄** and **𝑅**, where **𝑄** is an orthogonal matrix, and **𝑅** is an upper triangular matrix."
      ],
      "metadata": {
        "id": "6fJzY2JMK6E9"
      }
    },
    {
      "cell_type": "code",
      "execution_count": 4,
      "metadata": {
        "colab": {
          "base_uri": "https://localhost:8080/"
        },
        "id": "qSYD2b7dGeWB",
        "outputId": "1f1801a3-d632-47fe-d031-7bc0640afa89"
      },
      "outputs": [
        {
          "output_type": "stream",
          "name": "stdout",
          "text": [
            "A:\n",
            " [[1 2]\n",
            " [2 1]]\n",
            "\n",
            "Q:  [[ 0.4472136   0.89442719]\n",
            " [ 0.89442719 -0.4472136 ]]\n",
            "\n",
            "R:  [[2.23606798e+00 1.78885438e+00]\n",
            " [3.33066907e-16 1.34164079e+00]]\n",
            "\n",
            "QR:   [[1. 2.]\n",
            " [2. 1.]]\n"
          ]
        }
      ],
      "source": [
        "import numpy as np\n",
        "\n",
        "A = np.array([[1, 2],\n",
        "              [2, 1]])\n",
        "\n",
        "#QR decomposition\n",
        "a1 = A[:, 0]  # first column of A\n",
        "q1 = a1 / np.linalg.norm(a1)  # normalize a1\n",
        "\n",
        "a2 = A[:, 1]  # second column of A\n",
        "proj_q1_a2 = np.dot(q1, a2) * q1  # projection of a2 onto q1\n",
        "\n",
        "u2 = a2 - proj_q1_a2  # subtract the projcetion to get orthogonal component\n",
        "q2 = u2 / np.linalg.norm(u2)  # normalize to get q2\n",
        "\n",
        "Q = np.column_stack((q1, q2))\n",
        "\n",
        "# R = Q^T * A\n",
        "R = np.dot(Q.T, A)\n",
        "\n",
        "# verify QR = A\n",
        "A_reconstructed = np.dot(Q, R)\n",
        "\n",
        "print(\"A:\\n\", A)\n",
        "print(\"\\nQ: \", Q)\n",
        "print(\"\\nR: \", R)\n",
        "print(\"\\nQR:  \", A_reconstructed)"
      ]
    },
    {
      "cell_type": "markdown",
      "source": [
        "### 1.3.2. Least-squares problems\n",
        "Let’s say we have an overdetermined system (more equations than unknowns):\n",
        "\n",
        "![lagrida_latex_editor (1).png](data:image/png;base64,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)"
      ],
      "metadata": {
        "id": "eLrUz-ToqYvQ"
      }
    },
    {
      "cell_type": "code",
      "source": [
        "\n",
        "A = np.array([[1, 1],\n",
        "              [1, 2],\n",
        "              [1, 3]])\n",
        "b = np.array([1, 2, 2])\n",
        "\n",
        "#least-squares\n",
        "x, residuals, rank, s = np.linalg.lstsq(A, b, rcond=None)\n",
        "\n",
        "print(\"A: \", A)\n",
        "print(\"b: \", b)\n",
        "print(\"x: \", x)\n"
      ],
      "metadata": {
        "colab": {
          "base_uri": "https://localhost:8080/"
        },
        "id": "3hoDC-_zsbu9",
        "outputId": "eba4a7ec-26fd-4207-919b-ee98f048cdb3"
      },
      "execution_count": 5,
      "outputs": [
        {
          "output_type": "stream",
          "name": "stdout",
          "text": [
            "A:  [[1 1]\n",
            " [1 2]\n",
            " [1 3]]\n",
            "b:  [1 2 2]\n",
            "x:  [0.66666667 0.5       ]\n"
          ]
        }
      ]
    },
    {
      "cell_type": "markdown",
      "source": [
        "###1.3.3. Linear regression\n",
        "Let's say we have data points for a simple linear regression problem. We want to fit a line  \n",
        " ![lagrida_latex_editor.png](data:image/png;base64,iVBORw0KGgoAAAANSUhEUgAAAIgAAAAYCAYAAAAh3LURAAAAAXNSR0IArs4c6QAAAARzQklUCAgICHwIZIgAAASmSURBVGhD7ZaBcdswDEWbSeJOEmeSuJNUnaTOJFUnqTpJiufj98E0SVGi5Op0wR3OMikC+J9fIJ++fNonAwUGnnbIzskwvZgfzQfzH+b9DnB+Nwxgw8D1LfyuCm1vAvkV2JIoIPSneReEsiqZKwYHl8TOL2IB09e1RbIngSAEjC/Lm0TzuuIGrhma+lNd8I+N9wm8i9ayF4EcjBWI5IuKjXHmU3NLknm0YBxtbOZSRqfAUjE/gkBWFf5eBIIIcmcyRHYLb1xKAKcgkLiDtYiFLpESNoJnbnVcexAIZOW6h85qNu3cslMVa5cWSKl7/Lc7CIn/Fsg8hrZWwdfDXvFEUp83dZa1xUHOpQXi7x7CNVgenrlvcbT0DSxT77P5b3Pi4ndj6iAHm6QgiFQx8dn2qLN8KmZaLbW+mXfRYvAs2fJLtUEud5Al8mk/OF4QA7G9teAiNjEHc8TBB0Y8xo/m3HeYv3RdCcSrFcIxf/axUAIaI4DgJJtrUy5d5NHxwrO8t2cJBhzD3GImrDvZu0sJBL7ZOLhYGhd8vZufAzYJEI7gSscXHL4iEA+MZxZcJh05GifomEAANNcocopRF20S1acMsRMzFp0wMwdZU/OmcinmGD81+Er3j6MFYJO7DG7msT6RiLjMez4kCMWTYK4d5BACQdLNpEuQG68Bu+Y7JSLJi0DAp07JmEiCAObABmHgH7OTvYAgU0aso/m5ECQn5HiJ7+jxHHnA1Ye6mWdMuHjuzFO5qI913sjFOBzEczfEsUiExm35I0T0RBd4eNgU9fqjME5M3YN7B/K0hnEs9VXlAJxsIicQSMbuSHbBagRCjWxaDpcwkMd3AsbBBObOvDaXumwyn99wAFJYnBhS+MrO5jXtk0JbDJA1NodItdMU7vijqKnBvwNPL5UclWKzD9QZH4taEx8JcawpAsnt+TWmJyonhKkCQWRzDXHUiJD41PU2kciSQC5n7tzCQz1LCIQaEX+Oh1yXV+ljAkEU8IznxAa3zPfx2dzZIO7bk86oVgIbuE8uFbjUlw8JqW5IJwR8qoO04iPuEgLRB5bqIGPdA6JKAhF+YeVdzN8/DoG7y5HjiWICdfZhAfMqKH536c2eE49asbO5FzQbBREeh+JL7CmBdFGcqTWRt1Ug2hxygwlsMu0FY6Uuy6bn3vHdx+eSYBiDO3LD390lVUUMoSoWYGNFORwPeRQ4lM+mUy9+DL9XgFE1W+8g1M8eUD+1Ctcp7MG7/fYjDJcEouOLEOSiS4gT4jLmu8mdQFgI+RjFxS1ppLaHTUPYcyAyrrlUREkgN8TMQEJNrR2EDcTUEdkw9gGvtZJAFOMQxeQ/dpdHrRZwUu7ZVaKW5FtybaFrvhcTWZsLwuk4/t5CLPBfztwGI/abean9j4Wntlz3G1ur+RqB1Ma6dhAJAXEIoM7r1i+rupgJL1Lv3A1lLTj1lcb/J5Sx6KsHJ945gVmPSOmS4OM4GoLPiXdZo85AUIJDOon4EjrzLYqjlUhwgxcDM2T6S+5sMhsXUktLB9KdJS6jCZsEAum6wPC8FdJSnEOkamzck00tBxfWb6mqrd0ttsTNZy3GwD/wNEYoF3okeAAAAABJRU5ErkJggg==)  to the data x = [0,1,2,3] y = [1,2,3,4]"
      ],
      "metadata": {
        "id": "3yzfsm4cz1yx"
      }
    },
    {
      "cell_type": "code",
      "source": [
        "\n",
        "x = np.array([0, 1, 2, 3])\n",
        "y = np.array([1, 2, 2, 3])\n",
        "\n",
        "A = np.vstack([np.ones(len(x)), x]).T\n",
        "\n",
        "# solve least-squares problem to find the coefficients\n",
        "beta, residuals, rank, s = np.linalg.lstsq(A, y, rcond=None)\n",
        "\n",
        "print(\"Coefficients (intercept, slope):\\n\", beta)\n",
        "print(\"\\nResiduals:\\n\", residuals)"
      ],
      "metadata": {
        "colab": {
          "base_uri": "https://localhost:8080/"
        },
        "id": "_SF0X27yz5al",
        "outputId": "e9b555d8-4dfa-4614-bc46-a64b61eb98e8"
      },
      "execution_count": 6,
      "outputs": [
        {
          "output_type": "stream",
          "name": "stdout",
          "text": [
            "Coefficients (intercept, slope):\n",
            " [1.1 0.6]\n",
            "\n",
            "Residuals:\n",
            " [0.2]\n"
          ]
        }
      ]
    }
  ]
}